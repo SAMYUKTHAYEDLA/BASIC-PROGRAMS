{
  "nbformat": 4,
  "nbformat_minor": 0,
  "metadata": {
    "colab": {
      "provenance": [],
      "authorship_tag": "ABX9TyPwQBx+9CF04kxAsQACbNO0",
      "include_colab_link": true
    },
    "kernelspec": {
      "name": "python3",
      "display_name": "Python 3"
    },
    "language_info": {
      "name": "python"
    }
  },
  "cells": [
    {
      "cell_type": "markdown",
      "metadata": {
        "id": "view-in-github",
        "colab_type": "text"
      },
      "source": [
        "<a href=\"https://colab.research.google.com/github/SAMYUKTHAYEDLA/BASIC-PROGRAMS/blob/main/Untitled11.ipynb\" target=\"_parent\"><img src=\"https://colab.research.google.com/assets/colab-badge.svg\" alt=\"Open In Colab\"/></a>"
      ]
    },
    {
      "cell_type": "markdown",
      "source": [
        "Reverse a string"
      ],
      "metadata": {
        "id": "IaAwDx5hJ1_L"
      }
    },
    {
      "cell_type": "code",
      "source": [
        "str=input()\n",
        "str1=str[::-1]\n",
        "print(str1)"
      ],
      "metadata": {
        "colab": {
          "base_uri": "https://localhost:8080/"
        },
        "id": "bnpTggfMJ6Jf",
        "outputId": "96f89198-6618-4134-b987-6d7856f3bee7"
      },
      "execution_count": 5,
      "outputs": [
        {
          "output_type": "stream",
          "name": "stdout",
          "text": [
            "KAKINADA\n",
            "ADANIKAK\n"
          ]
        }
      ]
    }
  ]
}