{
  "nbformat": 4,
  "nbformat_minor": 0,
  "metadata": {
    "colab": {
      "provenance": [],
      "authorship_tag": "ABX9TyOAF2iWqaQ5dwpvvroobuLO",
      "include_colab_link": true
    },
    "kernelspec": {
      "name": "python3",
      "display_name": "Python 3"
    },
    "language_info": {
      "name": "python"
    }
  },
  "cells": [
    {
      "cell_type": "markdown",
      "metadata": {
        "id": "view-in-github",
        "colab_type": "text"
      },
      "source": [
        "<a href=\"https://colab.research.google.com/github/SAMYUKTHAYEDLA/BASIC-PROGRAMS/blob/main/Small_large_sum.ipynb\" target=\"_parent\"><img src=\"https://colab.research.google.com/assets/colab-badge.svg\" alt=\"Open In Colab\"/></a>"
      ]
    },
    {
      "cell_type": "markdown",
      "source": [
        "Small Large Sum\n",
        "Write a function SmallLargeSum(array) which accepts the array as an argument or\n",
        "parameter, that performs the addition of the second largest element from the\n",
        "even location with the second largest element from an odd location?\n",
        "Rules:\n",
        "All the array elements are unique.\n",
        "If the length of the array is 3 or less than 3, then return 0.\n",
        "If Array is empty then return zero.\n",
        "Sample Test Case 1:\n",
        "Input:\n",
        "6\n",
        "3 2 1 7 5 4\n",
        "Output:\n",
        "7\n",
        "Explanation: The second largest element in the even locations (3, 1, 5) is 3. The\n",
        "second largest element in the odd locations (2, 7, 4) is 4. So the addition of 3 and\n",
        "4 is 7. So the answer is 7.\n",
        "Sample Test Case 2:\n",
        "Input:\n",
        "7\n",
        "4 0 7 9 6 4 2\n",
        "Output:\n",
        "10"
      ],
      "metadata": {
        "id": "pNgVr6PLaZQq"
      }
    },
    {
      "cell_type": "code",
      "source": [
        "length = int(input())\n",
        "arr = list(map(int, input().split()))\n",
        "even_arr = []\n",
        "odd_arr = []\n",
        "for i in range(length):\n",
        "    if i%2==0:\n",
        "        even_arr.append(arr[i])\n",
        "    else:\n",
        "        odd_arr.append(arr[i])\n",
        "even_arr = sorted(even_arr)\n",
        "odd_arr = sorted(odd_arr)\n",
        "print(even_arr[-2]+odd_arr[-2])"
      ],
      "metadata": {
        "colab": {
          "base_uri": "https://localhost:8080/"
        },
        "id": "Xl55fPtLaaqz",
        "outputId": "77f2945b-ab97-45e8-c280-e5586294d9c0"
      },
      "execution_count": 7,
      "outputs": [
        {
          "output_type": "stream",
          "name": "stdout",
          "text": [
            "6\n",
            "3 2 1 7 5 4\n",
            "7\n"
          ]
        }
      ]
    }
  ]
}