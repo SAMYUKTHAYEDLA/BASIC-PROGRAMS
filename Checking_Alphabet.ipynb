{
  "nbformat": 4,
  "nbformat_minor": 0,
  "metadata": {
    "colab": {
      "provenance": [],
      "authorship_tag": "ABX9TyO+NMGYocRoVRXttxg40N6b",
      "include_colab_link": true
    },
    "kernelspec": {
      "name": "python3",
      "display_name": "Python 3"
    },
    "language_info": {
      "name": "python"
    }
  },
  "cells": [
    {
      "cell_type": "markdown",
      "metadata": {
        "id": "view-in-github",
        "colab_type": "text"
      },
      "source": [
        "<a href=\"https://colab.research.google.com/github/SAMYUKTHAYEDLA/BASIC-PROGRAMS/blob/main/Checking_Alphabet.ipynb\" target=\"_parent\"><img src=\"https://colab.research.google.com/assets/colab-badge.svg\" alt=\"Open In Colab\"/></a>"
      ]
    },
    {
      "cell_type": "code",
      "source": [
        "name=input()\n",
        "if'a'<=name<='z' or 'A'<=name<='Z':\n",
        "  print(\"Alpha\")\n",
        "else:\n",
        "  print(\"Not a Alpha\")"
      ],
      "metadata": {
        "colab": {
          "base_uri": "https://localhost:8080/"
        },
        "id": "BwK1Z0xbZDXq",
        "outputId": "8c562cfb-c588-4899-9c3b-48641573fa16"
      },
      "execution_count": 3,
      "outputs": [
        {
          "output_type": "stream",
          "name": "stdout",
          "text": [
            "Kakinada\n",
            "Alpha\n"
          ]
        }
      ]
    }
  ]
}