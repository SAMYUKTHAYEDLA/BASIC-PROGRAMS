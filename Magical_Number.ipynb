{
  "nbformat": 4,
  "nbformat_minor": 0,
  "metadata": {
    "colab": {
      "provenance": [],
      "authorship_tag": "ABX9TyOa1Eqt8Ol/lGZTSVw3sMVQ",
      "include_colab_link": true
    },
    "kernelspec": {
      "name": "python3",
      "display_name": "Python 3"
    },
    "language_info": {
      "name": "python"
    }
  },
  "cells": [
    {
      "cell_type": "markdown",
      "metadata": {
        "id": "view-in-github",
        "colab_type": "text"
      },
      "source": [
        "<a href=\"https://colab.research.google.com/github/SAMYUKTHAYEDLA/BASIC-PROGRAMS/blob/main/Magical_Number.ipynb\" target=\"_parent\"><img src=\"https://colab.research.google.com/assets/colab-badge.svg\" alt=\"Open In Colab\"/></a>"
      ]
    },
    {
      "cell_type": "markdown",
      "source": [
        "Magical Number\n",
        "\n",
        "You are given a program to find the count of magical numbers from 1 to N. A magical number is defined by the following criteria:\n",
        "\n",
        "Convert each number in the range 1 to N (inclusive) to its binary representation.\n",
        "\n",
        "Replace 10 with \"1\" and \"1\" with 2 in the binary string.\n",
        "\n",
        "Calculate the sum of the digits in the modified binary string. If the resultant number is odd, then it is considered a magical number.\n",
        "\n",
        "Your task is to find and return an integer value representing the count of the magical numbers present within the given range.\n",
        "\n",
        "Input Specification:\n",
        "\n",
        "Input1: An integer value N representing the range of numbers.\n",
        "\n",
        "Output Specification:\n",
        "\n",
        "Return an integer value representing the count of magical numbers present within the range\n",
        "\n",
        "Example 1:\n",
        "\n",
        "input1:2"
      ],
      "metadata": {
        "id": "3R_nL1bKvVEm"
      }
    },
    {
      "cell_type": "code",
      "source": [
        "def count_magical_numbers(N):\n",
        "    magical_count = 0\n",
        "\n",
        "    for num in range(1, N+1):\n",
        "        # Convert number to binary and remove '0b' prefix\n",
        "        binary_rep = bin(num)[2:]\n",
        "\n",
        "        # Replace '0' with '1' and '1' with '2'\n",
        "        modified_binary = binary_rep.replace('0', '1').replace('1', '2')\n",
        "\n",
        "        # Calculate the sum of digits in the modified binary string\n",
        "        digit_sum = sum(int(digit) for digit in modified_binary)\n",
        "\n",
        "        # Check if the sum is odd\n",
        "        if digit_sum % 2 != 0:\n",
        "            magical_count += 1\n",
        "\n",
        "    return magical_count\n",
        "\n",
        "# Example\n",
        "N = 2\n",
        "print(count_magical_numbers(N))  # Output: 1"
      ],
      "metadata": {
        "colab": {
          "base_uri": "https://localhost:8080/"
        },
        "id": "_R43YlnlvgZq",
        "outputId": "1160ceae-df5b-43d6-ea87-66119caafb17"
      },
      "execution_count": 1,
      "outputs": [
        {
          "output_type": "stream",
          "name": "stdout",
          "text": [
            "0\n"
          ]
        }
      ]
    }
  ]
}