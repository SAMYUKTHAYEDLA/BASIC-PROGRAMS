{
  "nbformat": 4,
  "nbformat_minor": 0,
  "metadata": {
    "colab": {
      "provenance": [],
      "authorship_tag": "ABX9TyORPNmUMW//5KkyksB+XqeE",
      "include_colab_link": true
    },
    "kernelspec": {
      "name": "python3",
      "display_name": "Python 3"
    },
    "language_info": {
      "name": "python"
    }
  },
  "cells": [
    {
      "cell_type": "markdown",
      "metadata": {
        "id": "view-in-github",
        "colab_type": "text"
      },
      "source": [
        "<a href=\"https://colab.research.google.com/github/SAMYUKTHAYEDLA/BASIC-PROGRAMS/blob/main/Move_Hyphens.ipynb\" target=\"_parent\"><img src=\"https://colab.research.google.com/assets/colab-badge.svg\" alt=\"Open In Colab\"/></a>"
      ]
    },
    {
      "cell_type": "markdown",
      "source": [
        "20. MOVES\n",
        "char*MoveHyphen(char str[],int n);\n",
        "The function accepts a string “str” of length ‘n’, that contains alphabets\n",
        "and hyphens (-). Implement the function to move all hyphens(-) in the\n",
        "string to the front of the given string.\n",
        "NOTE:- Return null if str is null.\n",
        "Example :-\n",
        "Input:\n",
        "str.Move-Hyphens-to-Front\n",
        "Output:\n",
        "—MoveHyphenstoFront\n",
        "Explanation:-\n",
        "The string “Move-Hyphens -to-front” has 3 hyphens (-), which are\n",
        "moved to the front of the string, this output is “— MoveHyphen”\n",
        "Sample Input\n",
        "Str: String-Compare\n",
        "Sample Output- -StringCompare"
      ],
      "metadata": {
        "id": "3pfTHjqw8DnX"
      }
    },
    {
      "cell_type": "code",
      "source": [
        "str = input()\n",
        "count = 0\n",
        "string = \"\"\n",
        "for i in str:\n",
        "    if i == \"-\":\n",
        "        count += 1\n",
        "    else:\n",
        "        string += i\n",
        "print(\"-\"*count+string)"
      ],
      "metadata": {
        "colab": {
          "base_uri": "https://localhost:8080/"
        },
        "id": "rrmnJ7r78Exf",
        "outputId": "7a5208db-0ff9-4cb5-c0c0-69d1f693b70b"
      },
      "execution_count": 3,
      "outputs": [
        {
          "output_type": "stream",
          "name": "stdout",
          "text": [
            "Kakinada-institute-of-engineering-and-techology\n",
            "-----Kakinadainstituteofengineeringandtechology\n"
          ]
        }
      ]
    }
  ]
}