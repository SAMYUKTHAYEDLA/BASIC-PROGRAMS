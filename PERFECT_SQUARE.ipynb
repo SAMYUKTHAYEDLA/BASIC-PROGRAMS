{
  "nbformat": 4,
  "nbformat_minor": 0,
  "metadata": {
    "colab": {
      "provenance": [],
      "authorship_tag": "ABX9TyMq5Z6Zv8+oIkDK52Od8F10",
      "include_colab_link": true
    },
    "kernelspec": {
      "name": "python3",
      "display_name": "Python 3"
    },
    "language_info": {
      "name": "python"
    }
  },
  "cells": [
    {
      "cell_type": "markdown",
      "metadata": {
        "id": "view-in-github",
        "colab_type": "text"
      },
      "source": [
        "<a href=\"https://colab.research.google.com/github/SAMYUKTHAYEDLA/BASIC-PROGRAMS/blob/main/PERFECT_SQUARE.ipynb\" target=\"_parent\"><img src=\"https://colab.research.google.com/assets/colab-badge.svg\" alt=\"Open In Colab\"/></a>"
      ]
    },
    {
      "cell_type": "markdown",
      "source": [
        "PERFECT SQUARE\n"
      ],
      "metadata": {
        "id": "Nmw4Q0WZZX3f"
      }
    },
    {
      "cell_type": "code",
      "source": [
        "num = int(input())\n",
        "for i in range(1,num):\n",
        "  if i*i == num:\n",
        "    print(\"perfect square\")\n",
        "    break\n",
        "else:\n",
        "    print(\"Not a Perfect Square\")"
      ],
      "metadata": {
        "colab": {
          "base_uri": "https://localhost:8080/"
        },
        "id": "oGCpzxj2Zb6G",
        "outputId": "41286250-1ef3-48cb-bd6f-6aab2846af15"
      },
      "execution_count": null,
      "outputs": [
        {
          "output_type": "stream",
          "name": "stdout",
          "text": [
            "25\n",
            "perfect square\n"
          ]
        }
      ]
    },
    {
      "cell_type": "markdown",
      "source": [
        "MATH MODULE"
      ],
      "metadata": {
        "id": "1Ab2NZlab9gN"
      }
    },
    {
      "cell_type": "code",
      "source": [
        "import math\n",
        "num=int(input())\n",
        "sqrt_num=int(math.sqrt(num))\n",
        "if sqrt_num * sqrt_num == num:\n",
        "  print(\"perfect square\")\n",
        "else:\n",
        "    print(\"not a perfect square\")"
      ],
      "metadata": {
        "colab": {
          "base_uri": "https://localhost:8080/"
        },
        "id": "EeWsNQUJcCcR",
        "outputId": "fc9d36be-c8bc-44ed-bb5c-bdd98f134873"
      },
      "execution_count": null,
      "outputs": [
        {
          "output_type": "stream",
          "name": "stdout",
          "text": [
            "25\n",
            "perfect square\n"
          ]
        }
      ]
    }
  ]
}