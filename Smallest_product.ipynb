{
  "nbformat": 4,
  "nbformat_minor": 0,
  "metadata": {
    "colab": {
      "provenance": [],
      "authorship_tag": "ABX9TyN8K0zvsUv1jpStGOIY9Y52",
      "include_colab_link": true
    },
    "kernelspec": {
      "name": "python3",
      "display_name": "Python 3"
    },
    "language_info": {
      "name": "python"
    }
  },
  "cells": [
    {
      "cell_type": "markdown",
      "metadata": {
        "id": "view-in-github",
        "colab_type": "text"
      },
      "source": [
        "<a href=\"https://colab.research.google.com/github/SAMYUKTHAYEDLA/BASIC-PROGRAMS/blob/main/Smallest_product.ipynb\" target=\"_parent\"><img src=\"https://colab.research.google.com/assets/colab-badge.svg\" alt=\"Open In Colab\"/></a>"
      ]
    },
    {
      "cell_type": "markdown",
      "source": [
        "\n",
        "def ProductSmallestPair(sum, arr)\n",
        "The function accepts an integers sum and an integer array arr of size n.\n",
        "Implement the function to find the pair, (arr[j], arr[k]) where j!=k, Such\n",
        "that arr[j] and arr[k] are the least two elements of array (arr[j] + arr[k]\n",
        "<= sum) and return the product of element of this pair\n",
        "NOTE\n",
        "Return -1 if array is empty or if n<2\n",
        "Return 0, if no such pairs found\n",
        "All computed values lie within integer range\n",
        "\n",
        "Example\n",
        "Input\n",
        "sum:9\n",
        "size of Arr = 7\n",
        "Arr:5 2 4 3 9 7 1\n",
        "Output\n",
        "2\n",
        "Explanation\n",
        "Pair of least two element is (2, 1) 2 + 1 = 3 < 9, Product of (2, 1) 2*1 = 2.\n",
        "Thus, output is 2\n",
        "Sample Input\n",
        "sum:4\n",
        "size of Arr = 6\n",
        "Arr:9 8 3 -7 3 9\n",
        "Sample Output -21"
      ],
      "metadata": {
        "id": "CJfRS6X9hmCK"
      }
    },
    {
      "cell_type": "code",
      "source": [
        "def ProductSmallestPair(sum, arr):\n",
        "    if len(arr) < 2:\n",
        "        return -1\n",
        "\n",
        "    arr.sort()\n",
        "    for i in range(len(arr) - 1):\n",
        "        if arr[i] + arr[i + 1] <= sum:\n",
        "            return arr[i] * arr[i + 1]\n",
        "\n",
        "    return 0\n",
        "print(ProductSmallestPair(9, [5, 2, 4, 3, 9, 7, 1]))\n",
        "print(ProductSmallestPair(4, [9, 8, 3, -7, 3, 9]))\n"
      ],
      "metadata": {
        "colab": {
          "base_uri": "https://localhost:8080/"
        },
        "id": "rZ7-78kShqWg",
        "outputId": "9ac64716-2e04-4fce-cc50-940946fb9cea"
      },
      "execution_count": 8,
      "outputs": [
        {
          "output_type": "stream",
          "name": "stdout",
          "text": [
            "2\n",
            "-21\n"
          ]
        }
      ]
    }
  ]
}