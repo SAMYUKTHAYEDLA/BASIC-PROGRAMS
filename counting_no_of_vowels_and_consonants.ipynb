{
  "nbformat": 4,
  "nbformat_minor": 0,
  "metadata": {
    "colab": {
      "provenance": [],
      "authorship_tag": "ABX9TyNACQZmMKwmZgVpHxShLFVr",
      "include_colab_link": true
    },
    "kernelspec": {
      "name": "python3",
      "display_name": "Python 3"
    },
    "language_info": {
      "name": "python"
    }
  },
  "cells": [
    {
      "cell_type": "markdown",
      "metadata": {
        "id": "view-in-github",
        "colab_type": "text"
      },
      "source": [
        "<a href=\"https://colab.research.google.com/github/SAMYUKTHAYEDLA/BASIC-PROGRAMS/blob/main/counting_no_of_vowels_and_consonants.ipynb\" target=\"_parent\"><img src=\"https://colab.research.google.com/assets/colab-badge.svg\" alt=\"Open In Colab\"/></a>"
      ]
    },
    {
      "cell_type": "markdown",
      "source": [],
      "metadata": {
        "id": "sP807yVbXLIc"
      }
    },
    {
      "cell_type": "code",
      "source": [
        "a=input()\n",
        "v=0\n",
        "c=0\n",
        "for i in a:\n",
        "  if(i=='a' or i=='e' or i=='i' or i=='o' or i=='u' or i=='A' or i=='E' or i=='I' or i=='O' or i=='U'):\n",
        "    v+=1\n",
        "  else:\n",
        "    c+=1\n",
        "print(\"vowels\",v)\n",
        "print(\"consonants\",c)"
      ],
      "metadata": {
        "colab": {
          "base_uri": "https://localhost:8080/"
        },
        "id": "UEfRESppXL6Y",
        "outputId": "a0b1c45a-8368-4971-e122-f712bcab98b2"
      },
      "execution_count": 2,
      "outputs": [
        {
          "output_type": "stream",
          "name": "stdout",
          "text": [
            "Brighest\n",
            "vowels 2\n",
            "consonants 6\n"
          ]
        }
      ]
    }
  ]
}